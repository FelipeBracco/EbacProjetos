{
 "cells": [
  {
   "cell_type": "markdown",
   "metadata": {},
   "source": [
    "# Módulo 5 Tarefa 1\n",
    "## Base de nascidos vivos do DataSUS\n",
    "O DataSUS disponibiliza diversos arquivos de dados com relação a seus segurados, conforme a [lei da transparência de informações públicas](https://www.sisgov.com/transparencia-acesso-informacao/#:~:text=A%20Lei%20da%20Transpar%C3%AAncia%20(LC,em%20um%20site%20na%20internet.). \n",
    "\n",
    "Essas informações podem ser obtidas pela internet [aqui](http://www2.datasus.gov.br/DATASUS/index.php?area=0901&item=1). Como o processo de obtenção desses arquivos foge um pouco do nosso escopo, deixamos o arquivo ```SINASC_RO_2019.csv``` já como vai ser encontrado no DataSUS. O dicionário de dados está no arquivo ```estrutura_sinasc_para_CD.pdf``` (o nome do arquivo tal qual no portal do DataSUS).\n",
    "\n",
    "### Nosso objetivo\n",
    "Queremos deixar uma base organizada para podermos estudar a relação entre partos com risco para o bebê e algumas condições como tempo de parto, consultas de pré-natal etc.\n",
    "\n",
    "#### Preparação da base\n",
    "1. Carregue a base 'SINASC_RO_2019.csv'. Conte o número de registros e o número de registros não duplicados da base. Dica: você aprendeu um método que remove duplicados, encadeie este método com um outro método que conta o número de linhas. **Há linhas duplicadas?**  \n",
    "\n",
    "2. Conte o número de valores *missing* por variável.  \n",
    "\n",
    "3. Ok, no item anterior você deve ter achado pouco prático ler a informação de tantas variáveis, muitas delas nem devem ser interesantes. Então crie uma seleção dessa base somente com as colunas que interessam. São elas:\n",
    "``` \n",
    "['LOCNASC', 'IDADEMAE', 'ESTCIVMAE', 'ESCMAE', 'QTDFILVIVO', \n",
    "    'GESTACAO', 'GRAVIDEZ', 'CONSULTAS', 'APGAR5'] \n",
    "```\n",
    "Refaça a contagem de valores *missings*.  \n",
    "\n",
    "4. Apgar é uma *nota* que o pediatra dá ao bebê quando nasce de acordo com algumas características associadas principalmente à respiração. Apgar 1 e Apgar 5 são as notas 1 e 5 minutos do nascimento. Apgar5 será a nossa variável de interesse principal. Então remova todos os registros com Apgar5 não preenchido. Para esta seleção, conte novamente o número de linhas e o número de *missings*.  \n",
    "\n",
    "5. observe que as variáveis ```['ESTCIVMAE', 'CONSULTAS']``` possuem o código ```9```, que significa *ignorado*. Vamos assumir que o não preenchido é o mesmo que o código ```9```.<br>\n",
    "6. Substitua os valores faltantes da quantitativa (```QTDFILVIVO```) por zero.  \n",
    "7. Das restantes, decida que valore te parece mais adequado (um 'não preenchido' ou um valor 'mais provável' como no item anterior) e preencha. Justifique. Lembre-se de que tratamento de dados é trabalho do cientista, e que estamos tomando decisões a todo o momento - não há necessariamente certo e errado aqui.  \n",
    "8. O Apgar possui uma classificação indicando se o bebê passou por asfixia:\n",
    "- Entre 8 e 10 está em uma faixa 'normal'. \n",
    "- Entre 6 e 7, significa que o recém-nascido passou por 'asfixia leve'. \n",
    "- Entre 4 e 5 significa 'asfixia moderada'.\n",
    "- Entre 0 e 3 significa 'asfixia severa'.  \n",
    "\n",
    "Crie uma categorização dessa variável com essa codificação e calcule as frequências dessa categorização.  \n",
    "<br>\n",
    "9. Renomeie as variáveis para que fiquem no *snake case*, ou seja, em letras minúsculas, com um *underscore* entre as palávras. Dica: repare que se você não quiser criar um *dataframe* novo, você vai precisar usar a opção ```inplace = True```."
   ]
  },
  {
   "cell_type": "code",
   "execution_count": 8,
   "metadata": {},
   "outputs": [
    {
     "name": "stdout",
     "output_type": "stream",
     "text": [
      "(27028, 69)\n"
     ]
    },
    {
     "data": {
      "text/plain": [
       "(27028, 69)"
      ]
     },
     "execution_count": 8,
     "metadata": {},
     "output_type": "execute_result"
    }
   ],
   "source": [
    "import pandas as pd\n",
    "import requests\n",
    "\n",
    "# 1) seu código aqui\n",
    "sinasc = pd.read_csv('SINASC_RO_2019.csv')\n",
    "print(sinasc.shape)\n",
    "sinasc.drop_duplicates().shape\n",
    "# Não há duplicados"
   ]
  },
  {
   "cell_type": "code",
   "execution_count": 9,
   "metadata": {},
   "outputs": [
    {
     "data": {
      "text/plain": [
       "ORIGEM          0\n",
       "CODESTAB      115\n",
       "CODMUNNASC      0\n",
       "LOCNASC         0\n",
       "IDADEMAE        0\n",
       "             ... \n",
       "munResUf        0\n",
       "munResLat       1\n",
       "munResLon       1\n",
       "munResAlt       1\n",
       "munResArea      1\n",
       "Length: 69, dtype: int64"
      ]
     },
     "execution_count": 9,
     "metadata": {},
     "output_type": "execute_result"
    }
   ],
   "source": [
    "# 2) seu código aqui\n",
    "sinasc.isna().sum()"
   ]
  },
  {
   "cell_type": "code",
   "execution_count": 10,
   "metadata": {},
   "outputs": [
    {
     "name": "stdout",
     "output_type": "stream",
     "text": [
      "LOCNASC          0\n",
      "IDADEMAE         0\n",
      "ESTCIVMAE      317\n",
      "ESCMAE         312\n",
      "QTDFILVIVO    1573\n",
      "GESTACAO      1232\n",
      "GRAVIDEZ        79\n",
      "CONSULTAS        0\n",
      "APGAR5         103\n",
      "dtype: int64\n"
     ]
    }
   ],
   "source": [
    "# 3) seu código aqui\n",
    "colunas_selecionadas = ['LOCNASC', 'IDADEMAE', 'ESTCIVMAE', 'ESCMAE', 'QTDFILVIVO', 'GESTACAO', 'GRAVIDEZ', 'CONSULTAS', 'APGAR5']\n",
    "selecao = sinasc[colunas_selecionadas]\n",
    "valores_ausentes_por_coluna = selecao.isna().sum()\n",
    "print(valores_ausentes_por_coluna)"
   ]
  },
  {
   "cell_type": "code",
   "execution_count": 11,
   "metadata": {},
   "outputs": [
    {
     "name": "stdout",
     "output_type": "stream",
     "text": [
      "Número de linhas após remoção: 26925\n",
      "\n",
      "Valores ausentes por coluna após remoção:\n",
      "LOCNASC          0\n",
      "IDADEMAE         0\n",
      "ESTCIVMAE      315\n",
      "ESCMAE         310\n",
      "QTDFILVIVO    1566\n",
      "GESTACAO      1216\n",
      "GRAVIDEZ        76\n",
      "CONSULTAS        0\n",
      "APGAR5           0\n",
      "dtype: int64\n"
     ]
    }
   ],
   "source": [
    "# 4) seu código aqui\n",
    "selecao = selecao.dropna(subset=['APGAR5'])\n",
    "num_linhas_apos_remocao = selecao.shape[0]\n",
    "valores_ausentes_apos_remocao = selecao.isna().sum()\n",
    "print(f\"Número de linhas após remoção: {num_linhas_apos_remocao}\")\n",
    "print(\"\\nValores ausentes por coluna após remoção:\")\n",
    "print(valores_ausentes_apos_remocao)"
   ]
  },
  {
   "cell_type": "code",
   "execution_count": 12,
   "metadata": {},
   "outputs": [
    {
     "name": "stdout",
     "output_type": "stream",
     "text": [
      "Número de linhas após remoção: 26416\n",
      "\n",
      "Valores ausentes por coluna após remoção:\n",
      "LOCNASC          0\n",
      "IDADEMAE         0\n",
      "ESTCIVMAE        0\n",
      "ESCMAE         242\n",
      "QTDFILVIVO    1525\n",
      "GESTACAO      1174\n",
      "GRAVIDEZ        73\n",
      "CONSULTAS        0\n",
      "APGAR5           0\n",
      "dtype: int64\n"
     ]
    }
   ],
   "source": [
    "# 5) seu código aqui\n",
    "selecao['ESTCIVMAE'].replace(9, pd.NA, inplace=True)\n",
    "selecao['CONSULTAS'].replace(9, pd.NA, inplace=True)\n",
    "selecao = selecao.dropna(subset=['APGAR5', 'ESTCIVMAE', 'CONSULTAS'])\n",
    "num_linhas_apos_remocao = selecao.shape[0]\n",
    "valores_ausentes_apos_remocao = selecao.isna().sum()\n",
    "print(f\"Número de linhas após remoção: {num_linhas_apos_remocao}\")\n",
    "print(\"\\nValores ausentes por coluna após remoção:\")\n",
    "print(valores_ausentes_apos_remocao)"
   ]
  },
  {
   "cell_type": "code",
   "execution_count": 13,
   "metadata": {},
   "outputs": [
    {
     "name": "stdout",
     "output_type": "stream",
     "text": [
      "Número de linhas após substituição: 26416\n",
      "\n",
      "Valores ausentes por coluna após substituição:\n",
      "LOCNASC          0\n",
      "IDADEMAE         0\n",
      "ESTCIVMAE        0\n",
      "ESCMAE         242\n",
      "QTDFILVIVO       0\n",
      "GESTACAO      1174\n",
      "GRAVIDEZ        73\n",
      "CONSULTAS        0\n",
      "APGAR5           0\n",
      "dtype: int64\n"
     ]
    }
   ],
   "source": [
    "# 6) Seu código aqui\n",
    "selecao['QTDFILVIVO'].fillna(0, inplace=True)\n",
    "num_linhas_apos_substituicao = selecao.shape[0]\n",
    "valores_ausentes_apos_substituicao = selecao.isna().sum()\n",
    "print(f\"Número de linhas após substituição: {num_linhas_apos_substituicao}\")\n",
    "print(\"\\nValores ausentes por coluna após substituição:\")\n",
    "print(valores_ausentes_apos_substituicao)"
   ]
  },
  {
   "cell_type": "code",
   "execution_count": 14,
   "metadata": {},
   "outputs": [
    {
     "name": "stdout",
     "output_type": "stream",
     "text": [
      "Número de linhas após substituição: 26416\n",
      "\n",
      "Valores ausentes por coluna após substituição:\n",
      "LOCNASC         0\n",
      "IDADEMAE        0\n",
      "ESTCIVMAE       0\n",
      "ESCMAE        242\n",
      "QTDFILVIVO      0\n",
      "GESTACAO        0\n",
      "GRAVIDEZ        0\n",
      "CONSULTAS       0\n",
      "APGAR5          0\n",
      "dtype: int64\n"
     ]
    }
   ],
   "source": [
    "# 7) seu código aqui\n",
    "colunas_qualitativas = ['ESTCIVMAE', 'GESTACAO', 'GRAVIDEZ']\n",
    "\n",
    "for coluna in colunas_qualitativas:\n",
    "    moda_coluna = selecao[coluna].mode().iloc[0]  # Moda\n",
    "    selecao[coluna].fillna(moda_coluna, inplace=True)\n",
    "\n",
    "num_linhas_apos_substituicao = selecao.shape[0]\n",
    "valores_ausentes_apos_substituicao = selecao.isna().sum()\n",
    "\n",
    "print(f\"Número de linhas após substituição: {num_linhas_apos_substituicao}\")\n",
    "print(\"\\nValores ausentes por coluna após substituição:\")\n",
    "print(valores_ausentes_apos_substituicao)\n",
    "\n",
    "#Fiz uma seleção das colunas qualitativas e optei pela moda, visto que não são muitas classificações e a chance de acertar fica\n",
    "#maior"
   ]
  },
  {
   "cell_type": "code",
   "execution_count": 15,
   "metadata": {},
   "outputs": [
    {
     "name": "stdout",
     "output_type": "stream",
     "text": [
      "Frequências da categorização do Apgar:\n",
      "APGAR_CATEGORIA\n",
      "normal              25964\n",
      "asfixia leve          312\n",
      "asfixia severa         72\n",
      "asfixia moderada       68\n",
      "Name: count, dtype: int64\n"
     ]
    }
   ],
   "source": [
    "# 8) seu código aqui\n",
    "selecao['APGAR_CATEGORIA'] = pd.cut(selecao['APGAR5'], bins=[0, 3, 5, 7, 10], labels=['asfixia severa', 'asfixia moderada', 'asfixia leve', 'normal'], include_lowest=True)\n",
    "\n",
    "frequencias_apgar_categoria = selecao['APGAR_CATEGORIA'].value_counts()\n",
    "\n",
    "print(\"Frequências da categorização do Apgar:\")\n",
    "print(frequencias_apgar_categoria)"
   ]
  },
  {
   "cell_type": "code",
   "execution_count": 16,
   "metadata": {},
   "outputs": [
    {
     "name": "stdout",
     "output_type": "stream",
     "text": [
      "   loc_nasc  idade_mae est_civ_mae          esc_mae  qtd_fil_vivo  \\\n",
      "0         1         19         5.0      8 a 11 anos           0.0   \n",
      "1         1         29         2.0      8 a 11 anos           1.0   \n",
      "3         1         30         5.0  12 anos ou mais           0.0   \n",
      "4         1         30         2.0      8 a 11 anos           1.0   \n",
      "5         1         33         5.0       1 a 3 anos           2.0   \n",
      "\n",
      "          gestacao gravidez consultas  apgar5 apgar_categoria  \n",
      "0  37 a 41 semanas    Única         4    10.0          normal  \n",
      "1  37 a 41 semanas    Única         4     9.0          normal  \n",
      "3  37 a 41 semanas    Única         3    10.0          normal  \n",
      "4  37 a 41 semanas    Única         4    10.0          normal  \n",
      "5  37 a 41 semanas    Única         4    10.0          normal  \n"
     ]
    }
   ],
   "source": [
    "# 9) seu código aqui\n",
    "selecao.rename(columns={\n",
    "    'LOCNASC': 'loc_nasc',\n",
    "    'IDADEMAE': 'idade_mae',\n",
    "    'ESTCIVMAE': 'est_civ_mae',\n",
    "    'ESCMAE': 'esc_mae',\n",
    "    'QTDFILVIVO': 'qtd_fil_vivo',\n",
    "    'GESTACAO': 'gestacao',\n",
    "    'GRAVIDEZ': 'gravidez',\n",
    "    'CONSULTAS': 'consultas',\n",
    "    'APGAR5': 'apgar5',\n",
    "    'APGAR_CATEGORIA': 'apgar_categoria'\n",
    "}, inplace=True)\n",
    "\n",
    "print(selecao.head())"
   ]
  },
  {
   "cell_type": "code",
   "execution_count": null,
   "metadata": {},
   "outputs": [],
   "source": []
  }
 ],
 "metadata": {
  "kernelspec": {
   "display_name": "Python 3 (ipykernel)",
   "language": "python",
   "name": "python3"
  },
  "language_info": {
   "codemirror_mode": {
    "name": "ipython",
    "version": 3
   },
   "file_extension": ".py",
   "mimetype": "text/x-python",
   "name": "python",
   "nbconvert_exporter": "python",
   "pygments_lexer": "ipython3",
   "version": "3.11.5"
  }
 },
 "nbformat": 4,
 "nbformat_minor": 4
}
